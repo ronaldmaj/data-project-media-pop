{
 "cells": [
  {
   "cell_type": "markdown",
   "metadata": {},
   "source": [
    "# Project Proposal - TDI Challenge - Investigations into Virality\n",
    "\n",
    "In this notebook, we will be exploring the features of Audio, specifically looking at popular vs. not-so-popular podcasts.\n",
    "\n",
    "The list of popular podcasts comes from the following website:\n",
    "http://analytics.podtrac.com/industry-rankings/\n",
    "\n",
    "Let us first import the necessary packages and test out librosa (our audio analysis package) on a sample file:\n"
   ]
  },
  {
   "cell_type": "code",
   "execution_count": 2,
   "metadata": {},
   "outputs": [],
   "source": [
    "import librosa\n",
    "import librosa.display\n",
    "import numpy as np\n",
    "import matplotlib.pyplot as plt"
   ]
  },
  {
   "cell_type": "code",
   "execution_count": 3,
   "metadata": {},
   "outputs": [],
   "source": [
    "y, sr = librosa.load(\"01 S01 Episode 01_ The Alibi 1.mp3\")"
   ]
  },
  {
   "cell_type": "code",
   "execution_count": 4,
   "metadata": {},
   "outputs": [],
   "source": [
    "centroid = librosa.feature.spectral_centroid(y=y, sr=sr)\n",
    "\n",
    "S, phase = librosa.magphase(librosa.stft(y=y))\n",
    "\n",
    "plt.figure()\n",
    "plt.subplot(2, 1, 1)\n",
    "plt.semilogy(centroid.T, label='Spectral centroid')\n",
    "plt.ylabel('Hz')\n",
    "plt.xticks([])\n",
    "plt.xlim([0, centroid.shape[-1]])\n",
    "plt.legend()\n",
    "plt.subplot(2, 1, 2)\n",
    "librosa.display.specshow(librosa.amplitude_to_db(S, ref=np.max),\n",
    "                          y_axis='log', x_axis='time')\n",
    "plt.title('log Power spectrogram')\n",
    "plt.tight_layout()"
   ]
  },
  {
   "cell_type": "markdown",
   "metadata": {},
   "source": [
    "This analysis, and others, would be undertaken for a much larger data set of audio files.\n"
   ]
  },
  {
   "cell_type": "code",
   "execution_count": null,
   "metadata": {},
   "outputs": [],
   "source": []
  }
 ],
 "metadata": {
  "kernelspec": {
   "display_name": "Python 3",
   "language": "python",
   "name": "python3"
  },
  "language_info": {
   "codemirror_mode": {
    "name": "ipython",
    "version": 3
   },
   "file_extension": ".py",
   "mimetype": "text/x-python",
   "name": "python",
   "nbconvert_exporter": "python",
   "pygments_lexer": "ipython3",
   "version": "3.6.6"
  }
 },
 "nbformat": 4,
 "nbformat_minor": 2
}
